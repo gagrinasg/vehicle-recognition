{
 "cells": [
  {
   "cell_type": "code",
   "execution_count": null,
   "metadata": {},
   "outputs": [],
   "source": [
    "import zipfile\n",
    "file_name=(\"duth-cv-2019-2020-hw-4.zip\")\n",
    "with zipfile.ZipFile(file_name,'r') as zip:\n",
    "             zip.extractall()\n",
    "             print(\"done\")"
   ]
  },
  {
   "cell_type": "code",
   "execution_count": null,
   "metadata": {
    "colab": {
     "base_uri": "https://localhost:8080/",
     "height": 330
    },
    "colab_type": "code",
    "id": "-8-iDTZf-uh_",
    "outputId": "10a8f310-41d7-4fc5-9035-342c498c6ac0"
   },
   "outputs": [],
   "source": [
    "import tensorflow as tf\n",
    "from tensorflow.keras import layers\n",
    "from tensorflow.keras import optimizers\n",
    "from tensorflow.keras import models\n",
    " \n",
    "# # Create the model\n",
    "model = models.Sequential()\n",
    "# # model.add(layers.Conv2D(64, (11,11), padding='valid',activation='relu',   input_shape=(128, 128, 3))) # νομιζω ειναι το καλυτερο μου\n",
    "# # model.add(layers.Conv2D(64, (11,11),  padding='valid', activation='relu'))\n",
    "# # model.add(layers.Conv2D(64, (11,11),padding='valid',   activation='relu'))\n",
    "# # model.add(layers.MaxPooling2D(pool_size=(2,2), strides=2))\n",
    "          \n",
    "# # model.add(layers.Conv2D(128, (11,11), padding='valid', activation='relu')) \n",
    "# # model.add(layers.Conv2D(128, (11,11), padding='valid',  activation='relu')) \n",
    "# # model.add(layers.Conv2D(128, (11,11), padding='valid',  activation='relu')) \n",
    "# # model.add(layers.MaxPooling2D(pool_size=(2,2), strides=2))\n",
    "\n",
    "\n",
    "model.add(tf.keras.layers.Conv2D(64,  (11,11), padding='same', activation='relu', input_shape=(128, 128, 3)))\n",
    "#model.add(layers.Conv2D(64,  (11,11), padding='same', activation='relu'))\n",
    "model.add(tf.keras.layers.MaxPooling2D((2,2),strides=(2,2)))\n",
    "model.add(tf.keras.layers.Dropout(0.2))\n",
    "\n",
    "# model.add(layers.Conv2D(128,  (11,11), padding='same', activation='relu'))\n",
    "# model.add(layers.Conv2D(128,  (11,11), padding='same', activation='relu'))\n",
    "model.add(tf.keras.layers.Conv2D(128,  (11,11), padding='same', activation='relu'))\n",
    "model.add(tf.keras.layers.MaxPooling2D((2,2),strides=(2,2)))\n",
    "model.add(tf.keras.layers.Dropout(0.2))\n",
    "# model.add(layers.Conv2D(256,  (11,11), padding='same', activation='relu'))\n",
    "# model.add(layers.Conv2D(256,  (11,11), padding='same', activation='relu'))\n",
    "# model.add(layers.Conv2D(256,  (11,11), padding='same', activation='relu'))\n",
    "model.add(tf.keras.layers.Conv2D(256,  (11,11), padding='same', activation='relu'))\n",
    "model.add(tf.keras.layers.MaxPooling2D((2,2),strides=(2,2)))\n",
    "model.add(tf.keras.layers.Dropout(0.2))\n",
    "# model.add(layers.Conv2D(512,  (11,11), padding='same', activation='relu'))\n",
    "# model.add(layers.Conv2D(512,  (11,11), padding='same', activation='relu'))\n",
    "# model.add(layers.Conv2D(512,  (11,11), padding='same', activation='relu'))\n",
    "model.add(tf.keras.layers.Conv2D(512,  (11,11), padding='same', activation='relu'))\n",
    "model.add(tf.keras.layers.MaxPooling2D((2,2),strides=(2,2)))\n",
    "model.add(tf.keras.layers.Dropout(0.2))\n",
    "\n",
    "\n",
    "\n",
    "\n",
    "         \n",
    "# Add new layers\n",
    "model.add(layers.Flatten())\n",
    "model.add(layers.Dense(512, activation='relu'))\n",
    "model.add(layers.Dropout(0.5))\n",
    "model.add(layers.Dense(6, activation='softmax'))\n",
    "\n",
    "# Show a summary of the model. Check the number of trainable parameters\n",
    "model.summary()\n"
   ]
  },
  {
   "cell_type": "code",
   "execution_count": null,
   "metadata": {
    "colab": {},
    "colab_type": "code",
    "id": "NM6qKbyW9Sxd"
   },
   "outputs": [],
   "source": [
    "import os\n",
    "base_dir = os.getcwd()\n",
    "base_dir = os.path.join(base_dir, r'duth-cv-2019-2020-hw-4\\vehicles')\n",
    "train_dir = os.path.join(base_dir, 'train')\n",
    "validation_dir = os.path.join(base_dir, 'val')\n",
    "test_dir = os.path.join(base_dir, 'test')"
   ]
  },
  {
   "cell_type": "code",
   "execution_count": null,
   "metadata": {
    "colab": {
     "base_uri": "https://localhost:8080/",
     "height": 52
    },
    "colab_type": "code",
    "id": "JruvtdJE9aoW",
    "outputId": "5c881940-c6c8-472d-cfc5-c6d2ef8f3072"
   },
   "outputs": [],
   "source": [
    "from tensorflow.keras.preprocessing.image import ImageDataGenerator\n",
    "\n",
    "train_datagen = ImageDataGenerator(rescale=1./255 , rotation_range = 10 , width_shift_range = 0.1 , height_shift_range = 0.1 , shear_range = 0.15 , zoom_range = 0.1 , channel_shift_range = 10. , horizontal_flip = True)\n",
    "val_datagen  = ImageDataGenerator(rescale=1./255, rotation_range = 10 , width_shift_range = 0.1 , height_shift_range = 0.1 , shear_range = 0.15 , zoom_range = 0.1 , channel_shift_range = 10. , horizontal_flip = True)\n",
    "\n",
    "# --------------------\n",
    "# Flow training images in batches of 20 using train_datagen generator\n",
    "# --------------------\n",
    "train_generator = train_datagen.flow_from_directory(train_dir,\n",
    "                                                    batch_size=50,\n",
    "                                                    class_mode='categorical',\n",
    "                                                    # color_mode='grayscale',\n",
    "                                                    target_size=(128,128),\n",
    "                                                    shuffle=True)     \n",
    "# --------------------\n",
    "# Flow validation images in batches of 20 using test_datagen generator\n",
    "# --------------------\n",
    "validation_generator =  val_datagen.flow_from_directory(validation_dir,\n",
    "                                                        batch_size=50,\n",
    "                                                        class_mode='categorical',\n",
    "                                                        #  color_mode='grayscale',\n",
    "                                                         target_size=(128,128)) "
   ]
  },
  {
   "cell_type": "markdown",
   "metadata": {},
   "source": []
  },
  {
   "cell_type": "markdown",
   "metadata": {},
   "source": []
  },
  {
   "cell_type": "code",
   "execution_count": null,
   "metadata": {
    "colab": {
     "base_uri": "https://localhost:8080/",
     "height": 1000
    },
    "colab_type": "code",
    "id": "2RL4DHoz_oSs",
    "outputId": "be273bda-b488-43d0-e6aa-2100bd5d21ae"
   },
   "outputs": [],
   "source": [
    "# Compile the model\n",
    "model.compile(loss='categorical_crossentropy',\n",
    "              optimizer=optimizers.RMSprop(learning_rate=1e-4),\n",
    "              metrics=['acc'])\n",
    "# Train the model\n",
    "history = model.fit(\n",
    "      train_generator,\n",
    "      steps_per_epoch=train_generator.samples/train_generator.batch_size ,\n",
    "      epochs=100,\n",
    "      validation_data=validation_generator,\n",
    "      validation_steps=validation_generator.samples/validation_generator.batch_size,\n",
    "      verbose=1)\n",
    " \n",
    "# Save the model\n",
    "model.save('small_last4.h5')"
   ]
  },
  {
   "cell_type": "code",
   "execution_count": null,
   "metadata": {},
   "outputs": [],
   "source": [
    "import numpy as np # linear algebra\n",
    "import pandas as pd # data processing, CSV file I/O (e.g. pd.read_csv)\n",
    "import os\n",
    "import tensorflow as tf\n",
    "from tensorflow.keras.preprocessing import image\n",
    "\n",
    "import os\n",
    "import csv\n",
    "\n",
    "model = tf.keras.models.load_model('small_last4.h5')\n",
    "rowlist = [['Id', 'Category']]\n",
    "\n",
    "for dirname, _, filenames in os.walk(test_dir):\n",
    "    for filename in filenames:\n",
    "        \n",
    "        path = os.path.join(dirname, filename)\n",
    "        img = image.load_img(path, target_size=(128, 128), grayscale=False, interpolation='bilinear')\n",
    "        \n",
    "        x = image.img_to_array(img)\n",
    "        x = np.expand_dims(x, axis=0)\n",
    "        \n",
    "        classes_pred = model.predict(x)\n",
    "        cls_pred = np.argmax(classes_pred)\n",
    "        rowlist.append([filename, cls_pred])\n",
    "        #print(filename, cls_pred)\n",
    "        with open('output.csv', 'w', newline='') as file:\n",
    "            writer = csv.writer(file)\n",
    "            writer.writerows(rowlist)\n",
    "        "
   ]
  },
  {
   "cell_type": "markdown",
   "metadata": {},
   "source": [
    "# "
   ]
  }
 ],
 "metadata": {
  "accelerator": "GPU",
  "colab": {
   "collapsed_sections": [],
   "name": "CV_2019-2020_Pretrained_Models_VGG.ipynb",
   "provenance": [],
   "toc_visible": true
  },
  "interpreter": {
   "hash": "05a5e652a59ca070c6e5ed735c7f1e3d30c471900af692af659333b7de3ec435"
  },
  "kernelspec": {
   "display_name": "gputest",
   "language": "python",
   "name": "gputest"
  },
  "language_info": {
   "codemirror_mode": {
    "name": "ipython",
    "version": 3
   },
   "file_extension": ".py",
   "mimetype": "text/x-python",
   "name": "python",
   "nbconvert_exporter": "python",
   "pygments_lexer": "ipython3",
   "version": "3.8.8"
  }
 },
 "nbformat": 4,
 "nbformat_minor": 4
}